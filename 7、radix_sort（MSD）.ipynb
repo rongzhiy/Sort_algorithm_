{
 "cells": [
  {
   "attachments": {},
   "cell_type": "markdown",
   "metadata": {},
   "source": [
    "# redix_sort（MSD）算法\n",
    "\n",
    "基数排序是一种排序算法，它按数字对数组的元素进行排序。它通过比较从最低有效数字到最高有效数字的数字数字来对元素进行排序。它是一种稳定的排序算法，可用于对任何基数中的数字进行排序。该算法基于按数字值对元素进行排序的原则。\n",
    "\n",
    "## 算法步骤\n",
    "\n",
    "以下是实现基数排序算法的步骤：\n",
    "\n",
    "查找数组中的最大位数并确定其位数。\n",
    "\n",
    "将位数初始化为零。\n",
    "\n",
    "从最低有效数字到最高有效数字遍历数组中数字的数字。\n",
    "\n",
    "对于每个数字，创建 10 个存储桶（0 到 9），并将数字分配到相应基于数字值的存储桶。\n",
    "\n",
    "按 0 到 9 的顺序从存储桶中收集数字，并将数组替换为收集的数字。\n",
    "\n",
    "对从最低有效数字到最高有效数字的所有数字重复步骤 4 和 5。"
   ]
  },
  {
   "cell_type": "code",
   "execution_count": 1,
   "metadata": {},
   "outputs": [
    {
     "data": {
      "image/png": "[encoded data removed]",
      "text/plain": [
       "<Figure size 432x288 with 1 Axes>"
      ]
     },
     "metadata": {
      "needs_background": "light"
     },
     "output_type": "display_data"
    },
    {
     "data": {
      "image/png": "[encoded data removed]",
      "text/plain": [
       "<Figure size 432x288 with 1 Axes>"
      ]
     },
     "metadata": {
      "needs_background": "light"
     },
     "output_type": "display_data"
    }
   ],
   "source": [
    "import random\n",
    "import matplotlib.pyplot as plt\n",
    "import time\n",
    "import threading\n",
    "\n",
    "# redix_sort（MSD）算法\n",
    "def redix_sort(arr):\n",
    "    if len(arr) <= 1:\n",
    "        return arr\n",
    "    max_num = max(arr)\n",
    "    max_digit = len(str(max_num))\n",
    "    return redix_sort_c(arr, max_digit)\n",
    "\n",
    "def redix_sort_c(arr, digit):\n",
    "    bucket_list = [[] for _ in range(10)]\n",
    "    for num in arr:\n",
    "        bucket_list[num // (10 ** (digit - 1)) % 10].append(num)\n",
    "    arr.clear()\n",
    "    if digit == 1:\n",
    "        for bucket in bucket_list:\n",
    "            arr.extend(bucket)\n",
    "    else:\n",
    "        for bucket in bucket_list:\n",
    "            if len(bucket) > 0:\n",
    "                redix_sort_c(bucket, digit - 1)\n",
    "            arr.extend(bucket)\n",
    "    return arr\n",
    "\n",
    "\n",
    "# 生成可视化用例\n",
    "def generate_visualization_case(length):\n",
    "    arr = [i for i in range(1, length+1)]\n",
    "    random.shuffle(arr)\n",
    "    return arr\n",
    "\n",
    "# 排序前的可视化\n",
    "arr = generate_visualization_case(1000)\n",
    "plt.bar(range(len(arr)), arr)\n",
    "plt.show()\n",
    "\n",
    "# 排序后的可视化\n",
    "arr = redix_sort(arr)\n",
    "plt.bar(range(len(arr)), arr)\n",
    "plt.show()"
   ]
  }
 ],
 "metadata": {
  "kernelspec": {
   "display_name": "mytorch",
   "language": "python",
   "name": "python3"
  },
  "language_info": {
   "codemirror_mode": {
    "name": "ipython",
    "version": 3
   },
   "file_extension": ".py",
   "mimetype": "text/x-python",
   "name": "python",
   "nbconvert_exporter": "python",
   "pygments_lexer": "ipython3",
   "version": "3.7.13"
  },
  "orig_nbformat": 4
 },
 "nbformat": 4,
 "nbformat_minor": 2
}

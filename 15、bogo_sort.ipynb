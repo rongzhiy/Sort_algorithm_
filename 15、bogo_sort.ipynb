{
 "cells": [
  {
   "attachments": {},
   "cell_type": "markdown",
   "metadata": {},
   "source": [
    "# Bogo Sort算法 无效的排序 猴子排序 \n",
    "Bogo Sort算法的步骤如下：\n",
    "\n",
    "检查列表是否已经排序好了。\n",
    "\n",
    "如果没有，随机打乱列表的顺序。\n",
    "\n",
    "重复执行步骤1和2，直到列表变成有序为止。\n",
    "\n",
    "需要注意的是，由于打乱顺序是随机的，因此无法保证算法的时间复杂度，并且Bogo Sort算法效率非常低，不适合在实际应用中使用。"
   ]
  },
  {
   "cell_type": "code",
   "execution_count": 3,
   "metadata": {},
   "outputs": [
    {
     "data": {
      "image/png": "[encoded data removed]",
      "text/plain": [
       "<Figure size 432x288 with 1 Axes>"
      ]
     },
     "metadata": {
      "needs_background": "light"
     },
     "output_type": "display_data"
    },
    {
     "data": {
      "image/png": "[encoded data removed]",
      "text/plain": [
       "<Figure size 432x288 with 1 Axes>"
      ]
     },
     "metadata": {
      "needs_background": "light"
     },
     "output_type": "display_data"
    }
   ],
   "source": [
    "import random\n",
    "import matplotlib.pyplot as plt\n",
    "\n",
    "# bogo_sort算法步骤\n",
    "def bogo_sort(arr):\n",
    "    while not is_sorted(arr):\n",
    "        random.shuffle(arr)\n",
    "    return arr\n",
    "\n",
    "# 判断数组是否有序\n",
    "def is_sorted(arr):\n",
    "    return all(arr[i] <= arr[i+1] for i in range(len(arr)-1))\n",
    "\n",
    "\n",
    "\n",
    "# 生成可视化用例\n",
    "def generate_visualization_case(length):\n",
    "    arr = [i for i in range(1, length+1)]\n",
    "    random.shuffle(arr)\n",
    "    return arr\n",
    "\n",
    "# 排序前的可视化\n",
    "arr = generate_visualization_case(10)\n",
    "plt.bar(range(len(arr)), arr)\n",
    "plt.show()\n",
    "\n",
    "# 排序后的可视化\n",
    "arr = bogo_sort(arr)\n",
    "plt.bar(range(len(arr)), arr)\n",
    "plt.show()"
   ]
  }
 ],
 "metadata": {
  "kernelspec": {
   "display_name": "mytorch",
   "language": "python",
   "name": "python3"
  },
  "language_info": {
   "codemirror_mode": {
    "name": "ipython",
    "version": 3
   },
   "file_extension": ".py",
   "mimetype": "text/x-python",
   "name": "python",
   "nbconvert_exporter": "python",
   "pygments_lexer": "ipython3",
   "version": "3.7.13"
  },
  "orig_nbformat": 4
 },
 "nbformat": 4,
 "nbformat_minor": 2
}

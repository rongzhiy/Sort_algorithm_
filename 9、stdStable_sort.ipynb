{
 "cells": [
  {
   "attachments": {},
   "cell_type": "markdown",
   "metadata": {},
   "source": [
    "# std::stable_sort(gcc)排序\n",
    "std::stable_sort 是 C++ 标准库中的稳定排序算法，它通常使用归并排序（Merge Sort）等比较性排序算法进行实现。以下是 std::stable_sort 的算法步骤：\n",
    "\n",
    "如果待排序区间长度小于等于1，则不需要排序，直接返回。\n",
    "\n",
    "将待排序区间平均分成两个子区间，对它们分别递归调用 std::stable_sort 进行排序。\n",
    "\n",
    "对已经排好序的两个子区间进行归并操作，生成新的有序区间。\n",
    "\n",
    "返回已经排好序的区间。\n",
    "\n",
    "在归并操作中，std::stable_sort 将左右两个已经排好序的子序列合并成一个更长的已经排好序的子序列。如果存在相同元素，则左侧子序列中的元素优先出现在右侧子序列中的元素之前，这就保证了排序的稳定性。\n",
    "\n",
    "需要注意的是，归并排序需要额外的存储空间来保存归并后的有序序列，因此 std::stable_sort 在实现上可能会使用递归或迭代的方法，并且需要使用辅助内存来存储数据。"
   ]
  },
  {
   "cell_type": "code",
   "execution_count": 1,
   "metadata": {},
   "outputs": [
    {
     "data": {
      "image/png": "[encoded data removed]",
      "text/plain": [
       "<Figure size 432x288 with 1 Axes>"
      ]
     },
     "metadata": {
      "needs_background": "light"
     },
     "output_type": "display_data"
    },
    {
     "data": {
      "image/png": "[encoded data removed]",
      "text/plain": [
       "<Figure size 432x288 with 1 Axes>"
      ]
     },
     "metadata": {
      "needs_background": "light"
     },
     "output_type": "display_data"
    }
   ],
   "source": [
    "import random\n",
    "import matplotlib.pyplot as plt\n",
    "\n",
    "# std::stable_sort(gcc)排序,这里以python的sort()函数为例\n",
    "def std_stable_sort(arr):\n",
    "    arr.sort()\n",
    "    return arr \n",
    "\n",
    "\n",
    "# 生成可视化用例\n",
    "def generate_visualization_case(length):\n",
    "    arr = [i for i in range(1, length+1)]\n",
    "    random.shuffle(arr)\n",
    "    return arr\n",
    "\n",
    "# 排序前的可视化\n",
    "arr = generate_visualization_case(10)\n",
    "plt.bar(range(len(arr)), arr)\n",
    "plt.show()\n",
    "\n",
    "# 排序后的可视化\n",
    "arr = std_stable_sort(arr)\n",
    "plt.bar(range(len(arr)), arr)\n",
    "plt.show()"
   ]
  }
 ],
 "metadata": {
  "kernelspec": {
   "display_name": "mytorch",
   "language": "python",
   "name": "python3"
  },
  "language_info": {
   "codemirror_mode": {
    "name": "ipython",
    "version": 3
   },
   "file_extension": ".py",
   "mimetype": "text/x-python",
   "name": "python",
   "nbconvert_exporter": "python",
   "pygments_lexer": "ipython3",
   "version": "3.7.13"
  },
  "orig_nbformat": 4
 },
 "nbformat": 4,
 "nbformat_minor": 2
}

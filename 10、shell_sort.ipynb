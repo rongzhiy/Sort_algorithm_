{
 "cells": [
  {
   "attachments": {},
   "cell_type": "markdown",
   "metadata": {},
   "source": [
    "# shell排序\n",
    "\n",
    "希尔排序是一种高效的排序算法，也称缩小增量排序，是直接插入排序算法的一种更高效的改进版本。希尔排序的核心在于间隔序列的设定，先将整个待排元素序列分割成若干个子序列，分别进行直接插入排序，然后依次缩小增量再进行排序，待整个序列中的元素基本有序时，再对全体元素进行一次直接插入排序。因为直接插入排序在元素基本有序的情况下，效率是很高的，因此希尔排序在时间效率比直接插入排序有较大提高。\n",
    "\n",
    "## 算法实现步骤\n",
    "首先确定分的组数。\n",
    "\n",
    "然后对组中元素进行插入排序。\n",
    "\n",
    "然后将增量减半，重复第二步操作。\n",
    "\n",
    "最后增量为1时，进行插入排序后，排序完成。"
   ]
  },
  {
   "cell_type": "code",
   "execution_count": 1,
   "metadata": {},
   "outputs": [
    {
     "data": {
      "image/png": "[encoded data removed]",
      "text/plain": [
       "<Figure size 432x288 with 1 Axes>"
      ]
     },
     "metadata": {
      "needs_background": "light"
     },
     "output_type": "display_data"
    },
    {
     "data": {
      "image/png": "[encoded data removed]",
      "text/plain": [
       "<Figure size 432x288 with 1 Axes>"
      ]
     },
     "metadata": {
      "needs_background": "light"
     },
     "output_type": "display_data"
    }
   ],
   "source": [
    "import random\n",
    "import matplotlib.pyplot as plt\n",
    "import time\n",
    "import threading\n",
    "\n",
    "# shell排序\n",
    "def shell_sort(arr):\n",
    "    n = len(arr)\n",
    "    gap = n // 2\n",
    "    while gap > 0:\n",
    "        for i in range(gap, n):\n",
    "            j = i\n",
    "            while j >= gap and arr[j] < arr[j - gap]:\n",
    "                arr[j], arr[j - gap] = arr[j - gap], arr[j]\n",
    "                j -= gap\n",
    "        gap //= 2\n",
    "    return arr\n",
    "\n",
    "\n",
    "# 生成可视化用例\n",
    "def generate_visualization_case(length):\n",
    "    arr = [i for i in range(1, length+1)]\n",
    "    random.shuffle(arr)\n",
    "    return arr\n",
    "\n",
    "# 排序前的可视化\n",
    "arr = generate_visualization_case(1000)\n",
    "plt.bar(range(len(arr)), arr)\n",
    "plt.show()\n",
    "\n",
    "# 排序后的可视化\n",
    "arr = shell_sort(arr)\n",
    "plt.bar(range(len(arr)), arr)\n",
    "plt.show()"
   ]
  }
 ],
 "metadata": {
  "kernelspec": {
   "display_name": "mytorch",
   "language": "python",
   "name": "python3"
  },
  "language_info": {
   "codemirror_mode": {
    "name": "ipython",
    "version": 3
   },
   "file_extension": ".py",
   "mimetype": "text/x-python",
   "name": "python",
   "nbconvert_exporter": "python",
   "pygments_lexer": "ipython3",
   "version": "3.7.13"
  },
  "orig_nbformat": 4
 },
 "nbformat": 4,
 "nbformat_minor": 2
}

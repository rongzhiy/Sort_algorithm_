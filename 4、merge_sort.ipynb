{
 "cells": [
  {
   "attachments": {},
   "cell_type": "markdown",
   "metadata": {},
   "source": [
    "# 归并排序\n",
    "\n",
    "算法思想\n",
    "分割：递归地把当前序列平均分割成两半。\n",
    "\n",
    "集成：在保持元素顺序的同时将上一步得到的子序列集成到一起（归并）。\n",
    "\n",
    "具体实现步骤如下：\n",
    "\n",
    "将待排序序列分成若干个子序列，每个子序列都是有序的。\n",
    "\n",
    "将有序子序列合并成整体有序的序列。\n",
    "\n",
    "优缺点：\n",
    "\n",
    "归并排序的主要优点是稳定、效率高，时间复杂度为O(nlogn)，在处理大数据时表现良好。但是，归并排序需要额外的存储空间来存储临时序列，因此空间复杂度较高。"
   ]
  },
  {
   "cell_type": "code",
   "execution_count": 2,
   "metadata": {},
   "outputs": [
    {
     "data": {
      "image/png": "[encoded data removed]",
      "text/plain": [
       "<Figure size 432x288 with 1 Axes>"
      ]
     },
     "metadata": {
      "needs_background": "light"
     },
     "output_type": "display_data"
    },
    {
     "data": {
      "image/png": "[encoded data removed]",
      "text/plain": [
       "<Figure size 432x288 with 1 Axes>"
      ]
     },
     "metadata": {
      "needs_background": "light"
     },
     "output_type": "display_data"
    }
   ],
   "source": [
    "import random\n",
    "import matplotlib.pyplot as plt\n",
    "\n",
    "#  Merge排序\n",
    "def merge(arr1, arr2): \n",
    "    result = []\n",
    "    while arr1 and arr2:\n",
    "        if arr1[0] < arr2[0]:\n",
    "            result.append(arr1.pop(0))\n",
    "        else:\n",
    "            result.append(arr2.pop(0))\n",
    "    if arr1:\n",
    "        result += arr1\n",
    "    if arr2:\n",
    "        result += arr2\n",
    "    return result\n",
    "\n",
    "def merge_sort(arr):\n",
    "    \"\"\"\n",
    "    归并排序\n",
    "    :param arr: 待排序的List\n",
    "    :return: 排好序的List\n",
    "    \"\"\"\n",
    "    if len(arr) <= 1:\n",
    "        return arr\n",
    "    mid = len(arr) // 2\n",
    "    return merge(merge_sort(arr[:mid]), merge_sort(arr[mid:]))\n",
    "\n",
    "\n",
    "# 生成可视化用例\n",
    "def generate_visualization_case(length):\n",
    "    arr = [i for i in range(1, length+1)]\n",
    "    random.shuffle(arr)\n",
    "    return arr\n",
    "\n",
    "# 排序前的可视化\n",
    "arr = generate_visualization_case(10)\n",
    "plt.bar(range(len(arr)), arr)\n",
    "plt.show()\n",
    "\n",
    "# 排序后的可视化\n",
    "arr = merge_sort(arr)\n",
    "plt.bar(range(len(arr)), arr)\n",
    "plt.show()"
   ]
  }
 ],
 "metadata": {
  "kernelspec": {
   "display_name": "mytorch",
   "language": "python",
   "name": "python3"
  },
  "language_info": {
   "codemirror_mode": {
    "name": "ipython",
    "version": 3
   },
   "file_extension": ".py",
   "mimetype": "text/x-python",
   "name": "python",
   "nbconvert_exporter": "python",
   "pygments_lexer": "ipython3",
   "version": "3.7.13"
  },
  "orig_nbformat": 4
 },
 "nbformat": 4,
 "nbformat_minor": 2
}

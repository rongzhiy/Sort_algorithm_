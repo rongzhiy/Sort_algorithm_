{
 "cells": [
  {
   "attachments": {},
   "cell_type": "markdown",
   "metadata": {},
   "source": [
    "# std::sort(gcc) 标准库排序\n",
    "std::sort 是 C++ 标准库中的排序算法，它通常使用快速排序（Quick Sort）或者归并排序（Merge Sort）等高效的比较性排序算法进行实现。具体实现可能因不同编译器和标准库版本而异。\n",
    "\n",
    "在实际使用中，std::sort 的性能通常优于简单的冒泡排序或插入排序等算法，尤其是对于大规模数据集合时。此外，C++11 中引入的 std::stable_sort 还保证了稳定性，可以用于排序非基础数据类型的容器，如结构体、类对象等。\n",
    "\n",
    "需要注意的是，对于某些已经有序或近乎有序的数据集合，使用 std::sort 可能会退化为 O(n^2) 的时间复杂度，这时可以考虑使用其他的排序算法或者对数据进行预处理，以避免这种情况的发生。"
   ]
  },
  {
   "cell_type": "code",
   "execution_count": 2,
   "metadata": {},
   "outputs": [
    {
     "data": {
      "image/png": "[encoded data removed]",
      "text/plain": [
       "<Figure size 432x288 with 1 Axes>"
      ]
     },
     "metadata": {
      "needs_background": "light"
     },
     "output_type": "display_data"
    },
    {
     "data": {
      "image/png": "[encoded data removed]",
      "text/plain": [
       "<Figure size 432x288 with 1 Axes>"
      ]
     },
     "metadata": {
      "needs_background": "light"
     },
     "output_type": "display_data"
    }
   ],
   "source": [
    "import random\n",
    "import matplotlib.pyplot as plt\n",
    "\n",
    "# std::sort(gcc) 标准库排序实现,这里以python的sort()函数为例\n",
    "def std_sort(arr):\n",
    "    arr.sort()\n",
    "    return arr\n",
    "\n",
    "\n",
    "# 生成可视化用例\n",
    "def generate_visualization_case(length):\n",
    "    arr = [i for i in range(1, length+1)]\n",
    "    random.shuffle(arr)\n",
    "    return arr\n",
    "\n",
    "# 排序前的可视化\n",
    "arr = generate_visualization_case(10)\n",
    "plt.bar(range(len(arr)), arr)\n",
    "plt.show()\n",
    "\n",
    "# 排序后的可视化\n",
    "arr = std_sort(arr)\n",
    "plt.bar(range(len(arr)), arr)\n",
    "plt.show()"
   ]
  }
 ],
 "metadata": {
  "kernelspec": {
   "display_name": "mytorch",
   "language": "python",
   "name": "python3"
  },
  "language_info": {
   "codemirror_mode": {
    "name": "ipython",
    "version": 3
   },
   "file_extension": ".py",
   "mimetype": "text/x-python",
   "name": "python",
   "nbconvert_exporter": "python",
   "pygments_lexer": "ipython3",
   "version": "3.7.13"
  },
  "orig_nbformat": 4
 },
 "nbformat": 4,
 "nbformat_minor": 2
}

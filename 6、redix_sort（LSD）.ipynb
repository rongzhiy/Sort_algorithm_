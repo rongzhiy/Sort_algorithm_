{
 "cells": [
  {
   "cell_type": "markdown",
   "metadata": {},
   "source": []
  },
  {
   "cell_type": "code",
   "execution_count": null,
   "metadata": {},
   "outputs": [],
   "source": [
    "import random\n",
    "import matplotlib.pyplot as plt\n",
    "import time\n",
    "import threading\n",
    "\n",
    "# redix_sort（LSD）算法\n",
    "def redix_sort(arr):\n",
    "    max_num = max(arr)\n",
    "    max_length = len(str(max_num))\n",
    "    bucket_list = [[] for _ in range(10)]\n",
    "    for i in range(max_length):\n",
    "        for val in arr:\n",
    "            bucket_list[val // (10 ** i) % 10].append(val)\n",
    "        arr.clear()\n",
    "        for each in bucket_list:\n",
    "            arr.extend(each)\n",
    "        bucket_list = [[] for _ in range(10)]\n",
    "    return arr\n",
    "\n",
    "\n",
    "# 生成可视化用例\n",
    "def generate_visualization_case(length):\n",
    "    arr = [i for i in range(1, length+1)]\n",
    "    random.shuffle(arr)\n",
    "    return arr\n",
    "\n",
    "# 排序前的可视化\n",
    "arr = generate_visualization_case(1000)\n",
    "plt.bar(range(len(arr)), arr)\n",
    "plt.show()\n",
    "\n",
    "# 排序后的可视化\n",
    "arr = redix_sort(arr)\n",
    "plt.bar(range(len(arr)), arr)\n",
    "plt.show()"
   ]
  }
 ],
 "metadata": {
  "language_info": {
   "name": "python"
  },
  "orig_nbformat": 4
 },
 "nbformat": 4,
 "nbformat_minor": 2
}

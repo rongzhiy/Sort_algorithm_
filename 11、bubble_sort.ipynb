{
 "cells": [
  {
   "cell_type": "code",
   "execution_count": 6,
   "metadata": {},
   "outputs": [],
   "source": [
    "import random\n",
    "import matplotlib.pyplot as plt\n",
    "from matplotlib.animation import FuncAnimation\n",
    "\n",
    "def bubble_sort(array):\n",
    "    n = len(array)\n",
    "    for i in range(n):\n",
    "        for j in range(n - i - 1):\n",
    "            if array[j] > array[j + 1]:\n",
    "                array[j], array[j + 1] = array[j + 1], array[j]\n",
    "                yield array\n",
    "\n",
    "def update(num, bars, states):\n",
    "    for bar, state in zip(bars, states[num]):\n",
    "        bar.set_height(state)\n",
    "\n",
    "def animate(states):\n",
    "    fig, ax = plt.subplots()\n",
    "    bars = ax.bar(range(len(states[0])), states[0], align='edge')\n",
    "    ax.set(xlim=(0, len(states[0])), ylim=(0, max(states[-1])))\n",
    "    anim = FuncAnimation(fig, update, frames=len(states), fargs=(bars, states))\n",
    "    anim.save('bubble_sort.gif', writer='pillow')\n",
    "\n",
    "array = random.sample(range(1, 101), 50)\n",
    "states = list(bubble_sort(array))\n",
    "animate(states)"
   ]
  }
 ],
 "metadata": {
  "kernelspec": {
   "display_name": "mytorch",
   "language": "python",
   "name": "python3"
  },
  "language_info": {
   "codemirror_mode": {
    "name": "ipython",
    "version": 3
   },
   "file_extension": ".py",
   "mimetype": "text/x-python",
   "name": "python",
   "nbconvert_exporter": "python",
   "pygments_lexer": "ipython3",
   "version": "3.7.13"
  },
  "orig_nbformat": 4
 },
 "nbformat": 4,
 "nbformat_minor": 2
}

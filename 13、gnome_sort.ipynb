{
 "cells": [
  {
   "attachments": {},
   "cell_type": "markdown",
   "metadata": {},
   "source": [
    "# gnome_sort\n",
    "\n",
    "gnome_sort（侏儒排序）是一种简单的排序算法，其步骤如下：\n",
    "\n",
    "初始化索引变量i=0。\n",
    "如果i=0或者前一个元素小于等于当前元素，则将索引i增加1，使i指向下一个元素。 否则交换这两个元素并将i减1，使i回到之前的位置。\n",
    "重复第2步直到i等于数组长度。\n",
    "该算法使用类似“侏儒”的行动方式，因此得名侏儒排序。它是一种简单但不太高效的排序算法。"
   ]
  },
  {
   "cell_type": "code",
   "execution_count": 1,
   "metadata": {},
   "outputs": [
    {
     "data": {
      "image/png": "[encoded data removed]",
      "text/plain": [
       "<Figure size 432x288 with 1 Axes>"
      ]
     },
     "metadata": {
      "needs_background": "light"
     },
     "output_type": "display_data"
    },
    {
     "data": {
      "image/png": "[encoded data removed]",
      "text/plain": [
       "<Figure size 432x288 with 1 Axes>"
      ]
     },
     "metadata": {
      "needs_background": "light"
     },
     "output_type": "display_data"
    }
   ],
   "source": [
    "import random\n",
    "import matplotlib.pyplot as plt\n",
    "\n",
    "# gnome_sort算法步骤\n",
    "def gnome_sort(arr):\n",
    "    i = 1\n",
    "    while i < len(arr):\n",
    "        if arr[i-1] <= arr[i]:\n",
    "            i += 1\n",
    "        else:\n",
    "            arr[i-1], arr[i] = arr[i], arr[i-1]\n",
    "            i -= 1\n",
    "            if i == 0:\n",
    "                i = 1\n",
    "    return arr\n",
    "\n",
    "\n",
    "# 生成可视化用例\n",
    "def generate_visualization_case(length):\n",
    "    arr = [i for i in range(1, length+1)]\n",
    "    random.shuffle(arr)\n",
    "    return arr\n",
    "\n",
    "# 排序前的可视化\n",
    "arr = generate_visualization_case(10)\n",
    "plt.bar(range(len(arr)), arr)\n",
    "plt.show()\n",
    "\n",
    "# 排序后的可视化\n",
    "arr = gnome_sort(arr)\n",
    "plt.bar(range(len(arr)), arr)\n",
    "plt.show()"
   ]
  }
 ],
 "metadata": {
  "kernelspec": {
   "display_name": "mytorch",
   "language": "python",
   "name": "python3"
  },
  "language_info": {
   "codemirror_mode": {
    "name": "ipython",
    "version": 3
   },
   "file_extension": ".py",
   "mimetype": "text/x-python",
   "name": "python",
   "nbconvert_exporter": "python",
   "pygments_lexer": "ipython3",
   "version": "3.7.13"
  },
  "orig_nbformat": 4
 },
 "nbformat": 4,
 "nbformat_minor": 2
}

{
 "cells": [
  {
   "attachments": {},
   "cell_type": "markdown",
   "metadata": {},
   "source": [
    "# bitonic_sort算法\n",
    "Bitonic Sort（双调排序）是一种并行排序算法，可以使用并行硬件来加速排序过程。其步骤如下：\n",
    "\n",
    "将输入数组分成两个部分，每个部分包含n/2个元素，并按升序排序。\n",
    "\n",
    "将这两个部分中的每一个子序列再次分成两个部分，每个部分包含n/4个元素，并根据它们在各自的部分中的位置比较大小，选择升序或降序排列。\n",
    "\n",
    "重复步骤2，将每个子序列分成更小的子序列并按位比较大小，直到仅剩单个元素为止。\n",
    "\n",
    "整个过程可以通过递归实现。Bitonic Sort 可以被看作是一种分治算法，它可以有效地利用同步硬件进行并行计算，因此在一些并行架构上被广泛应用。\n"
   ]
  },
  {
   "cell_type": "code",
   "execution_count": 7,
   "metadata": {},
   "outputs": [
    {
     "data": {
      "image/png": "[encoded data removed]",
      "text/plain": [
       "<Figure size 432x288 with 1 Axes>"
      ]
     },
     "metadata": {
      "needs_background": "light"
     },
     "output_type": "display_data"
    },
    {
     "data": {
      "image/png": "[encoded data removed]",
      "text/plain": [
       "<Figure size 432x288 with 1 Axes>"
      ]
     },
     "metadata": {
      "needs_background": "light"
     },
     "output_type": "display_data"
    }
   ],
   "source": [
    "import random\n",
    "import matplotlib.pyplot as plt\n",
    "\n",
    "def exchange(arr, i, j):\n",
    "    temp = arr[i]\n",
    "    arr[i] = arr[j]\n",
    "    arr[j] = temp\n",
    "\n",
    "def compare_and_swap(arr, i, j, order):\n",
    "    if (order == (arr[i] > arr[j])):\n",
    "        exchange(arr, i, j)\n",
    "\n",
    "def bitonic_merge(arr, start, end, order):\n",
    "    if end - start <= 1:\n",
    "        return\n",
    "\n",
    "    mid = (start + end) // 2\n",
    "    \n",
    "    # 将左半部分升序排列，右半部分降序排列\n",
    "    for i in range(start, mid):\n",
    "        compare_and_swap(arr, i, i + mid - start, order)\n",
    "\n",
    "    # 递归地进行双调合并\n",
    "    bitonic_merge(arr, start, mid, order)\n",
    "    bitonic_merge(arr, mid, end, order)\n",
    "\n",
    "def bitonic_sort(arr, start, end, order):\n",
    "    if end - start <= 1:\n",
    "        return\n",
    "\n",
    "    mid = (start + end) // 2\n",
    "    \n",
    "    # 将左半部分降序排列，右半部分升序排列\n",
    "    bitonic_sort(arr, start, mid, not order)\n",
    "    bitonic_sort(arr, mid, end, order)\n",
    "\n",
    "    # 合并两个有序序列\n",
    "    bitonic_merge(arr, start, end, order)\n",
    "\n",
    "\n",
    "\n",
    "\n",
    "# 可视化用例\n",
    "arr = [3, 7, 4, 8, 6, 2, 1, 5]\n",
    "n = len(arr)\n",
    "\n",
    "# 排序前的可视化\n",
    "plt.bar(range(len(arr)), arr)\n",
    "plt.show()\n",
    "\n",
    "# 排序后的可视化\n",
    "bitonic_sort(arr, 0, n, True) # 升序排序\n",
    "plt.bar(range(len(arr)), arr)\n",
    "plt.show()"
   ]
  }
 ],
 "metadata": {
  "kernelspec": {
   "display_name": "mytorch",
   "language": "python",
   "name": "python3"
  },
  "language_info": {
   "codemirror_mode": {
    "name": "ipython",
    "version": 3
   },
   "file_extension": ".py",
   "mimetype": "text/x-python",
   "name": "python",
   "nbconvert_exporter": "python",
   "pygments_lexer": "ipython3",
   "version": "3.7.13"
  },
  "orig_nbformat": 4
 },
 "nbformat": 4,
 "nbformat_minor": 2
}

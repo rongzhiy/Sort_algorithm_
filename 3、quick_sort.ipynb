{
 "cells": [
  {
   "attachments": {},
   "cell_type": "markdown",
   "metadata": {},
   "source": [
    "# 快速排序\n",
    "选取一个基准元素，通常选择第一个或最后一个元素。\n",
    "\n",
    "将数组按照基准元素进行分区，将小于等于基准元素的元素放在左边，大于基准元素的元素放在右边。分区可以使用双指针法或单指针法实现。\n",
    "\n",
    "对左右两个分区分别进行递归快速排序，直到每个分区只包含一个元素或为空。\n",
    "\n",
    "所有分区都被排序完成后，整个数组也就排好序了。\n",
    "\n",
    "快速排序的时间复杂度是 O(nlogn)，空间复杂度是 O(logn)，其中 nn 是待排序数组的长度。但是，在最坏情况下，快速排序的时间复杂度退化为 O(n^2)，即当数组本来就是有序的或者接近有序时，快速排序会退化为冒泡排序的时间复杂度。"
   ]
  },
  {
   "cell_type": "code",
   "execution_count": 1,
   "metadata": {},
   "outputs": [
    {
     "data": {
      "image/png": "[encoded data removed]",
      "text/plain": [
       "<Figure size 432x288 with 1 Axes>"
      ]
     },
     "metadata": {
      "needs_background": "light"
     },
     "output_type": "display_data"
    },
    {
     "data": {
      "image/png": "[encoded data removed]",
      "text/plain": [
       "<Figure size 432x288 with 1 Axes>"
      ]
     },
     "metadata": {
      "needs_background": "light"
     },
     "output_type": "display_data"
    }
   ],
   "source": [
    "import random\n",
    "import matplotlib.pyplot as plt\n",
    "\n",
    "#  快速排序\n",
    "def quick_sort(arr):\n",
    "    if len(arr) <= 1:\n",
    "        return arr\n",
    "    pivot = arr[len(arr) // 2]\n",
    "    left = [x for x in arr if x < pivot]\n",
    "    middle = [x for x in arr if x == pivot]\n",
    "    right = [x for x in arr if x > pivot]\n",
    "    return quick_sort(left) + middle + quick_sort(right)\n",
    "\n",
    "# 生成可视化用例\n",
    "def generate_visualization_case(length):\n",
    "    arr = [i for i in range(1, length+1)]\n",
    "    random.shuffle(arr)\n",
    "    return arr\n",
    "\n",
    "# 排序前的可视化\n",
    "arr = generate_visualization_case(10)\n",
    "plt.bar(range(len(arr)), arr)\n",
    "plt.show()\n",
    "\n",
    "# 排序后的可视化\n",
    "arr = quick_sort(arr)\n",
    "plt.bar(range(len(arr)), arr)\n",
    "plt.show()"
   ]
  }
 ],
 "metadata": {
  "kernelspec": {
   "display_name": "mytorch",
   "language": "python",
   "name": "python3"
  },
  "language_info": {
   "codemirror_mode": {
    "name": "ipython",
    "version": 3
   },
   "file_extension": ".py",
   "mimetype": "text/x-python",
   "name": "python",
   "nbconvert_exporter": "python",
   "pygments_lexer": "ipython3",
   "version": "3.7.13"
  },
  "orig_nbformat": 4
 },
 "nbformat": 4,
 "nbformat_minor": 2
}

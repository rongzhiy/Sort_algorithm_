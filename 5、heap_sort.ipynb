{
 "cells": [
  {
   "attachments": {},
   "cell_type": "markdown",
   "metadata": {},
   "source": [
    "# 堆排序 \n",
    "\n",
    "堆排序（Heap Sort）是一种基于堆这种数据结构设计的一种排序算法。堆是一种完全二叉树的数据结构，它的每个节点（除了叶节点）的值都大于等于或小于等于它的子节点。堆排序的基本思路是先将待排序的序列构建成一个堆，然后依次将堆顶的元素与堆中最后一个元素交换，再重新调整堆，直到排序完成。堆排序是一种选择排序，它的时间复杂度是 O(nlogn)。"
   ]
  },
  {
   "cell_type": "code",
   "execution_count": 1,
   "metadata": {},
   "outputs": [
    {
     "data": {
      "image/png": "[encoded data removed]",
      "text/plain": [
       "<Figure size 432x288 with 1 Axes>"
      ]
     },
     "metadata": {
      "needs_background": "light"
     },
     "output_type": "display_data"
    },
    {
     "data": {
      "image/png": "[encoded data removed]",
      "text/plain": [
       "<Figure size 432x288 with 1 Axes>"
      ]
     },
     "metadata": {
      "needs_background": "light"
     },
     "output_type": "display_data"
    }
   ],
   "source": [
    "import random\n",
    "import matplotlib.pyplot as plt\n",
    "\n",
    "#  堆排序\n",
    "def heap_sort(arr):\n",
    "    # 构建大顶堆\n",
    "    for i in range(len(arr)//2-1, -1, -1):\n",
    "        heap_adjust(arr, i, len(arr))\n",
    "    # 交换堆顶元素和末尾元素，然后调整堆\n",
    "    for i in range(len(arr)-1, 0, -1):\n",
    "        arr[0], arr[i] = arr[i], arr[0]\n",
    "        heap_adjust(arr, 0, i)\n",
    "    return arr\n",
    "\n",
    "# 调整堆\n",
    "def heap_adjust(arr, i, length):\n",
    "    temp = arr[i]\n",
    "    k = 2*i+1\n",
    "    while k < length:\n",
    "        if k+1 < length and arr[k] < arr[k+1]:\n",
    "            k += 1\n",
    "        if arr[k] > temp:\n",
    "            arr[i] = arr[k]\n",
    "            i = k\n",
    "        else:\n",
    "            break\n",
    "        k = 2*k+1\n",
    "    arr[i] = temp\n",
    "\n",
    "\n",
    "# 生成可视化用例\n",
    "def generate_visualization_case(length):\n",
    "    arr = [i for i in range(1, length+1)]\n",
    "    random.shuffle(arr)\n",
    "    return arr\n",
    "\n",
    "# 排序前的可视化\n",
    "arr = generate_visualization_case(10)\n",
    "plt.bar(range(len(arr)), arr)\n",
    "plt.show()\n",
    "\n",
    "# 排序后的可视化\n",
    "arr = heap_sort(arr)\n",
    "plt.bar(range(len(arr)), arr)\n",
    "plt.show()"
   ]
  }
 ],
 "metadata": {
  "kernelspec": {
   "display_name": "mytorch",
   "language": "python",
   "name": "python3"
  },
  "language_info": {
   "codemirror_mode": {
    "name": "ipython",
    "version": 3
   },
   "file_extension": ".py",
   "mimetype": "text/x-python",
   "name": "python",
   "nbconvert_exporter": "python",
   "pygments_lexer": "ipython3",
   "version": "3.7.13"
  },
  "orig_nbformat": 4
 },
 "nbformat": 4,
 "nbformat_minor": 2
}
